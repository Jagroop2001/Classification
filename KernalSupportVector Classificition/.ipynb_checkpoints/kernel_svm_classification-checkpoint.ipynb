{
 "cells": [
  {
   "cell_type": "markdown",
   "id": "45c4c097-2e76-4453-9ef7-2cf8862f79be",
   "metadata": {},
   "source": [
    "# SVM Classfification"
   ]
  },
  {
   "cell_type": "code",
   "execution_count": null,
   "id": "d75308ee-89f5-4004-aed6-bd0aeab9b39d",
   "metadata": {},
   "outputs": [],
   "source": []
  }
 ],
 "metadata": {
  "kernelspec": {
   "display_name": "Python 3 (ipykernel)",
   "language": "python",
   "name": "python3"
  },
  "language_info": {
   "codemirror_mode": {
    "name": "ipython",
    "version": 3
   },
   "file_extension": ".py",
   "mimetype": "text/x-python",
   "name": "python",
   "nbconvert_exporter": "python",
   "pygments_lexer": "ipython3",
   "version": "3.8.10"
  }
 },
 "nbformat": 4,
 "nbformat_minor": 5
}
